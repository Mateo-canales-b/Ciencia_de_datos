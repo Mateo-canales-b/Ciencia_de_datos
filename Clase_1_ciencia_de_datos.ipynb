{
  "nbformat": 4,
  "nbformat_minor": 0,
  "metadata": {
    "colab": {
      "provenance": [],
      "authorship_tag": "ABX9TyNukMLa52g7/qd4oC6Jo/Em",
      "include_colab_link": true
    },
    "kernelspec": {
      "name": "python3",
      "display_name": "Python 3"
    },
    "language_info": {
      "name": "python"
    }
  },
  "cells": [
    {
      "cell_type": "markdown",
      "metadata": {
        "id": "view-in-github",
        "colab_type": "text"
      },
      "source": [
        "<a href=\"https://colab.research.google.com/github/Mateo-canales-b/Ciencia_de_datos/blob/main/Clase_1_ciencia_de_datos.ipynb\" target=\"_parent\"><img src=\"https://colab.research.google.com/assets/colab-badge.svg\" alt=\"Open In Colab\"/></a>"
      ]
    },
    {
      "cell_type": "markdown",
      "source": [],
      "metadata": {
        "id": "4kQGE9FLj44E"
      }
    },
    {
      "cell_type": "markdown",
      "source": [
        "# Primera Clase de programación"
      ],
      "metadata": {
        "id": "UAPIgm-xj-3e"
      }
    },
    {
      "cell_type": "code",
      "source": [
        "print(\"Hola Mundo\")"
      ],
      "metadata": {
        "colab": {
          "base_uri": "https://localhost:8080/"
        },
        "id": "P_xYgyxdjXMm",
        "outputId": "4cb86f7e-f3e2-4589-c34a-581b778c6b9f"
      },
      "execution_count": 3,
      "outputs": [
        {
          "output_type": "stream",
          "name": "stdout",
          "text": [
            "Hola Mundo\n"
          ]
        }
      ]
    },
    {
      "cell_type": "markdown",
      "source": [
        "hoy estamos haciendo una introducción a lo que es colab, incluso utilizando gemini\n"
      ],
      "metadata": {
        "id": "YGLMNXSAkNX1"
      }
    },
    {
      "source": [
        "import json\n",
        "\n",
        "data = []\n",
        "for i in range(10):\n",
        "    record = {\n",
        "        \"id\": i + 1,\n",
        "        \"nombre\": f\"Nombre_{i+1}\",\n",
        "        \"valor\": i * 10\n",
        "    }\n",
        "    data.append(record)\n",
        "\n",
        "json_data = json.dumps(data, indent=4)\n",
        "\n",
        "print(json_data)\n",
        "\n",
        "# Si quieres guardar esto en un archivo, puedes usar:\n",
        "# with open(\"dataset.json\", \"w\") as f:\n",
        "#     f.write(json_data)"
      ],
      "cell_type": "code",
      "metadata": {
        "colab": {
          "base_uri": "https://localhost:8080/"
        },
        "id": "ueAcUss9kjbi",
        "outputId": "afd01991-212a-49ae-ad5a-326714a8a89e"
      },
      "execution_count": 4,
      "outputs": [
        {
          "output_type": "stream",
          "name": "stdout",
          "text": [
            "[\n",
            "    {\n",
            "        \"id\": 1,\n",
            "        \"nombre\": \"Nombre_1\",\n",
            "        \"valor\": 0\n",
            "    },\n",
            "    {\n",
            "        \"id\": 2,\n",
            "        \"nombre\": \"Nombre_2\",\n",
            "        \"valor\": 10\n",
            "    },\n",
            "    {\n",
            "        \"id\": 3,\n",
            "        \"nombre\": \"Nombre_3\",\n",
            "        \"valor\": 20\n",
            "    },\n",
            "    {\n",
            "        \"id\": 4,\n",
            "        \"nombre\": \"Nombre_4\",\n",
            "        \"valor\": 30\n",
            "    },\n",
            "    {\n",
            "        \"id\": 5,\n",
            "        \"nombre\": \"Nombre_5\",\n",
            "        \"valor\": 40\n",
            "    },\n",
            "    {\n",
            "        \"id\": 6,\n",
            "        \"nombre\": \"Nombre_6\",\n",
            "        \"valor\": 50\n",
            "    },\n",
            "    {\n",
            "        \"id\": 7,\n",
            "        \"nombre\": \"Nombre_7\",\n",
            "        \"valor\": 60\n",
            "    },\n",
            "    {\n",
            "        \"id\": 8,\n",
            "        \"nombre\": \"Nombre_8\",\n",
            "        \"valor\": 70\n",
            "    },\n",
            "    {\n",
            "        \"id\": 9,\n",
            "        \"nombre\": \"Nombre_9\",\n",
            "        \"valor\": 80\n",
            "    },\n",
            "    {\n",
            "        \"id\": 10,\n",
            "        \"nombre\": \"Nombre_10\",\n",
            "        \"valor\": 90\n",
            "    }\n",
            "]\n"
          ]
        }
      ]
    },
    {
      "source": [
        "import matplotlib.pyplot as plt\n",
        "\n",
        "# Asegúrate de que tus datos están en la variable 'data'\n",
        "# Si no es así, carga tus datos desde el JSON:\n",
        "# import json\n",
        "# with open(\"dataset.json\", \"r\") as f:\n",
        "#     data = json.load(f)\n",
        "\n",
        "ids = [item['id'] for item in data]\n",
        "valores = [item['valor'] for item in data]\n",
        "\n",
        "plt.figure(figsize=(10, 6))\n",
        "plt.bar(ids, valores, color='skyblue')\n",
        "plt.xlabel('ID')\n",
        "plt.ylabel('Valor')\n",
        "plt.title('Gráfico de Barras de Valores por ID')\n",
        "plt.xticks(ids) # Asegura que todas las IDs se muestren en el eje X\n",
        "plt.grid(axis='y', linestyle='--')\n",
        "plt.show()"
      ],
      "cell_type": "code",
      "metadata": {
        "colab": {
          "base_uri": "https://localhost:8080/",
          "height": 565
        },
        "id": "13RZdDYQktSR",
        "outputId": "dbe850e6-c664-4367-8d63-9b40dc79fb16"
      },
      "execution_count": 5,
      "outputs": [
        {
          "output_type": "display_data",
          "data": {
            "text/plain": [
              "<Figure size 1000x600 with 1 Axes>"
            ],
            "image/png": "[encoded data removed]"
          },
          "metadata": {}
        }
      ]
    }
  ]
}