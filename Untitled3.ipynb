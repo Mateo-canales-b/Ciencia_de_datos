{
  "nbformat": 4,
  "nbformat_minor": 0,
  "metadata": {
    "colab": {
      "provenance": [],
      "include_colab_link": true
    },
    "kernelspec": {
      "name": "python3",
      "display_name": "Python 3"
    },
    "language_info": {
      "name": "python"
    }
  },
  "cells": [
    {
      "cell_type": "markdown",
      "metadata": {
        "id": "view-in-github",
        "colab_type": "text"
      },
      "source": [
        "<a href=\"https://colab.research.google.com/github/Mateo-canales-b/Ciencia_de_datos/blob/main/Untitled3.ipynb\" target=\"_parent\"><img src=\"https://colab.research.google.com/assets/colab-badge.svg\" alt=\"Open In Colab\"/></a>"
      ]
    },
    {
      "cell_type": "code",
      "execution_count": null,
      "metadata": {
        "colab": {
          "base_uri": "https://localhost:8080/"
        },
        "id": "njPL7cEeVjC5",
        "outputId": "e839d947-f87f-4623-e48d-7df28c329f57"
      },
      "outputs": [
        {
          "output_type": "stream",
          "name": "stdout",
          "text": [
            "Vector 1D: [1 2 3 4 5]\n",
            "\n",
            "Matriz 2x3:\n",
            " [[10 20 30]\n",
            " [40 50 60]]\n",
            "\n",
            "Arreglo 3D:\n",
            " [[[1 2]\n",
            "  [3 4]]\n",
            "\n",
            " [[5 6]\n",
            "  [7 8]]]\n"
          ]
        }
      ],
      "source": [
        "# Parte 1 – Crear y visualizar estructuras\n",
        "import numpy as np\n",
        "\n",
        "# Crear un vector de 1D con valores del 1 al 5\n",
        "vector = np.array([1, 2, 3, 4, 5])\n",
        "print(\"Vector 1D:\", vector)\n",
        "\n",
        "# Crear una matriz 2x3\n",
        "matriz = np.array([[10, 20, 30], [40, 50, 60]])\n",
        "print(\"\\nMatriz 2x3:\\n\", matriz)\n",
        "\n",
        "# Crear un arreglo 3D de forma (2, 2, 2)\n",
        "arreglo_3d = np.array([[[1, 2], [3, 4]], [[5, 6], [7, 8]]])\n",
        "print(\"\\nArreglo 3D:\\n\", arreglo_3d)\n",
        "# Explicación:\n",
        "# np.array() permite crear cualquier tipo de estructura: vector, matriz o arreglo multidimensional.\n",
        "\n",
        "# El resultado muestra cómo se organizan los datos internamente.\n",
        "# Un arreglo 3D es como una caja que contiene varias \"matrices\" (o planos). En este caso:\n",
        "\n",
        "# Dimensión 1: contiene 2 matrices (como dos páginas).\n",
        "\n",
        "# Dimensión 2: cada matriz tiene 2 filas.\n",
        "\n",
        "# Dimensión 3: cada fila tiene 2 columnas.\n",
        "\n",
        "# Entonces, la forma (2, 2, 2) se lee así:\n",
        "\n",
        "# 2 matrices (o bloques)\n",
        "\n",
        "# cada una con 2 filas\n",
        "\n",
        "# y cada fila con 2 elementos"
      ]
    },
    {
      "cell_type": "code",
      "source": [
        " # Parte 2 – Usar funciones de creación\n",
        "# Crear un arreglo con valores del 0 al 20 de dos en dos\n",
        "rango = np.arange(0, 21, 2)\n",
        "print(\"Rango con arange():\", rango)\n",
        "\n",
        "# Crear una matriz de ceros de tamaño 3x3\n",
        "ceros = np.zeros((3, 3))\n",
        "print(\"\\nMatriz de ceros 3x3:\\n\", ceros)\n",
        "\n",
        "# Crear una matriz de unos de tamaño 2x4\n",
        "unos = np.ones((2, 4))\n",
        "print(\"\\nMatriz de unos 2x4:\\n\", unos)\n",
        "\n",
        "# Crear una matriz identidad de tamaño 4x4\n",
        "identidad = np.eye(4)\n",
        "print(\"\\nMatriz identidad 4x4:\\n\", identidad)\n",
        "\n",
        "# Crear una matriz aleatoria 2x2 con valores entre 0 y 1\n",
        "aleatoria = np.random.rand(2, 2)\n",
        "print(\"\\nMatriz aleatoria 2x2:\\n\", aleatoria)"
      ],
      "metadata": {
        "colab": {
          "base_uri": "https://localhost:8080/"
        },
        "id": "0VX7Alw8YXg4",
        "outputId": "7d78e43f-c859-4495-f66a-6e76f4591d99"
      },
      "execution_count": null,
      "outputs": [
        {
          "output_type": "stream",
          "name": "stdout",
          "text": [
            "Rango con arange(): [ 0  2  4  6  8 10 12 14 16 18 20]\n",
            "\n",
            "Matriz de ceros 3x3:\n",
            " [[0. 0. 0.]\n",
            " [0. 0. 0.]\n",
            " [0. 0. 0.]]\n",
            "\n",
            "Matriz de unos 2x4:\n",
            " [[1. 1. 1. 1.]\n",
            " [1. 1. 1. 1.]]\n",
            "\n",
            "Matriz identidad 4x4:\n",
            " [[1. 0. 0. 0.]\n",
            " [0. 1. 0. 0.]\n",
            " [0. 0. 1. 0.]\n",
            " [0. 0. 0. 1.]]\n",
            "\n",
            "Matriz aleatoria 2x2:\n",
            " [[0.79274511 0.78468487]\n",
            " [0.18039238 0.38964513]]\n"
          ]
        }
      ]
    },
    {
      "cell_type": "code",
      "source": [
        "# Parte 3 – Redimensionar y seleccionar\n",
        "# Crear un arreglo de 12 elementos y redimensionarlo a 3x4\n",
        "a = np.arange(12)\n",
        "a_reshaped = a.reshape((3, 4))\n",
        "print(\"Arreglo redimensionado 3x4:\\n\", a_reshaped)\n",
        "\n",
        "# Seleccionar el elemento de la fila 2, columna 3\n",
        "print(\"\\nElemento [1, 2]:\", a_reshaped[1, 2])  # Recuerda: indexación inicia en 0\n",
        "\n",
        "# Selección condicional: elementos mayores a 5\n",
        "print(\"\\nElementos mayores a 5:\", a_reshaped[a_reshaped > 5])"
      ],
      "metadata": {
        "colab": {
          "base_uri": "https://localhost:8080/"
        },
        "id": "_-0bJoT-Yn7d",
        "outputId": "2f85a8d6-1830-4695-83d0-14d80451544a"
      },
      "execution_count": null,
      "outputs": [
        {
          "output_type": "stream",
          "name": "stdout",
          "text": [
            "Arreglo redimensionado 3x4:\n",
            " [[ 0  1  2  3]\n",
            " [ 4  5  6  7]\n",
            " [ 8  9 10 11]]\n",
            "\n",
            "Elemento [1, 2]: 6\n",
            "\n",
            "Elementos mayores a 5: [ 6  7  8  9 10 11]\n"
          ]
        }
      ]
    },
    {
      "cell_type": "code",
      "source": [
        "# Parte 4 – Operaciones básicas\n",
        "# Crear dos arreglos\n",
        "x = np.array([1, 2, 3])\n",
        "y = np.array([4, 5, 6])\n",
        "\n",
        "# Suma y producto\n",
        "print(\"Suma:\", x + y)\n",
        "print(\"Producto elemento a elemento:\", x * y)\n",
        "\n",
        "# Aplicar funciones\n",
        "print(\"Raíz cuadrada:\", np.sqrt(x))\n",
        "print(\"Promedio de x:\", np.mean(x))"
      ],
      "metadata": {
        "colab": {
          "base_uri": "https://localhost:8080/"
        },
        "id": "-2dzt4MkYy1f",
        "outputId": "c3aade70-53d7-45ac-d66e-48856c615b0a"
      },
      "execution_count": null,
      "outputs": [
        {
          "output_type": "stream",
          "name": "stdout",
          "text": [
            "Suma: [5 7 9]\n",
            "Producto elemento a elemento: [ 4 10 18]\n",
            "Raíz cuadrada: [1.         1.41421356 1.73205081]\n",
            "Promedio de x: 2.0\n"
          ]
        }
      ]
    },
    {
      "cell_type": "markdown",
      "source": [
        "¿Cuál es la diferencia entre un vector y una matriz?\n",
        "\n",
        "¿Qué función te parece más útil para crear datos de prueba?\n",
        "\n",
        "¿Cómo se comporta la indexación en NumPy comparado con listas normales de Python?"
      ],
      "metadata": {
        "id": "PqP4m5inY80V"
      }
    },
    {
      "cell_type": "markdown",
      "source": [
        "Parte 1: Crear arreglos con NumPy\n",
        "Instrucciones:\n",
        "\n",
        "Crea un vector con los números del 1 al 10.\n",
        "\n",
        "Crea una matriz 3x3 con valores del 1 al 9.\n",
        "\n",
        "Crea un vector con 5 valores equidistantes entre 0 y 1."
      ],
      "metadata": {
        "id": "mv6XSSxaaIZl"
      }
    },
    {
      "cell_type": "code",
      "source": [
        "import numpy as np\n",
        "\n",
        "# 1. Vector del 1 al 10\n",
        "vector = np.arange(1, 11)\n",
        "print(\"Vector:\", vector)\n",
        "\n",
        "# 2. Matriz 3x3 con valores del 1 al 9\n",
        "matriz = np.arange(1, 10).reshape(3, 3)\n",
        "print(\"Matriz:\\n\", matriz)\n",
        "\n",
        "# 3. Vector con 5 valores equidistantes entre 0 y 1\n",
        "vector_lin = np.linspace(0, 1, 5)\n",
        "print(\"Vector equidistante:\", vector_lin)"
      ],
      "metadata": {
        "colab": {
          "base_uri": "https://localhost:8080/"
        },
        "id": "syy-y9leaPR1",
        "outputId": "0de5112a-4e69-4229-cf31-ee082eac22c9"
      },
      "execution_count": null,
      "outputs": [
        {
          "output_type": "stream",
          "name": "stdout",
          "text": [
            "Vector: [ 1  2  3  4  5  6  7  8  9 10]\n",
            "Matriz:\n",
            " [[1 2 3]\n",
            " [4 5 6]\n",
            " [7 8 9]]\n",
            "Vector equidistante: [0.   0.25 0.5  0.75 1.  ]\n"
          ]
        }
      ]
    },
    {
      "cell_type": "markdown",
      "source": [
        "Parte 2: Indexación y selección\n",
        "Instrucciones:\n",
        "\n",
        "Muestra el primer y último valor del vector creado.\n",
        "\n",
        "Muestra el elemento que está en la segunda fila y tercera columna de la matriz."
      ],
      "metadata": {
        "id": "F7Tl8yDCaYXH"
      }
    },
    {
      "cell_type": "code",
      "source": [
        "print(\"Primer valor del vector:\", vector[0])\n",
        "print(\"Último valor del vector:\", vector[-1])\n",
        "\n",
        "print(\"Elemento [2,3] de la matriz:\", matriz[1, 2])"
      ],
      "metadata": {
        "colab": {
          "base_uri": "https://localhost:8080/"
        },
        "id": "r28H5jS_abg2",
        "outputId": "89eb7222-fc7c-4b84-d7e7-b2aeacc5bdd4"
      },
      "execution_count": null,
      "outputs": [
        {
          "output_type": "stream",
          "name": "stdout",
          "text": [
            "Primer valor del vector: 1\n",
            "Último valor del vector: 10\n",
            "Elemento [2,3] de la matriz: 6\n"
          ]
        }
      ]
    },
    {
      "cell_type": "markdown",
      "source": [
        "Parte 3: Selección condicional y operaciones\n",
        "Instrucciones:\n",
        "\n",
        "Muestra los valores del vector mayores a 5.\n",
        "\n",
        "Multiplica la matriz por 2.\n",
        "\n",
        "Suma los vectores vector y vector_lin (primero redimensiónalos)."
      ],
      "metadata": {
        "id": "uHw6ZMhCahKN"
      }
    },
    {
      "cell_type": "code",
      "source": [
        "# 1. Valores mayores a 5\n",
        "mayores_a_5 = vector[vector > 5]\n",
        "print(\"Valores mayores a 5:\", mayores_a_5)\n",
        "\n",
        "# 2. Matriz multiplicada por 2\n",
        "doble_matriz = matriz * 2\n",
        "print(\"Matriz x2:\\n\", doble_matriz)\n",
        "\n",
        "# 3. Suma de vectores\n",
        "vector_lin_redim = np.linspace(1, 5, 5)\n",
        "# Genera un vector de 5 números equidistantes entre 1 y 5\n",
        "vector10 = np.array([1, 2, 3, 4, 5]) # Es un arreglo de enteros.\n",
        "suma_vectores = vector10 + vector_lin_redim\n",
        "print(\"Suma de vectores:\", suma_vectores)\n",
        "# [1, 2, 3, 4, 5] +\n",
        "# [1.0, 2.0, 3.0, 4.0, 5.0] =\n",
        "# [2.0, 4.0, 6.0, 8.0, 10.0]"
      ],
      "metadata": {
        "colab": {
          "base_uri": "https://localhost:8080/"
        },
        "id": "djIlgUHuaknl",
        "outputId": "92cc63f2-9423-4282-c28f-10b1518ec58d"
      },
      "execution_count": null,
      "outputs": [
        {
          "output_type": "stream",
          "name": "stdout",
          "text": [
            "Valores mayores a 5: [ 6  7  8  9 10]\n",
            "Matriz x2:\n",
            " [[ 2  4  6]\n",
            " [ 8 10 12]\n",
            " [14 16 18]]\n",
            "Suma de vectores: [ 2.  4.  6.  8. 10.]\n"
          ]
        }
      ]
    },
    {
      "cell_type": "markdown",
      "source": [
        "Parte 4: Estadísticas básicas\n",
        "Instrucciones:\n",
        "\n",
        "Usa un arreglo con errores: [25, -3, 120, 35, 20] (contiene edades incorrectas).\n",
        "\n",
        "Filtra los valores válidos (entre 0 y 100).\n",
        "\n",
        "Calcula media, mediana, moda, varianza y desviación estándar."
      ],
      "metadata": {
        "id": "yWp3nfJOaots"
      }
    },
    {
      "cell_type": "code",
      "source": [
        "import statistics as stats\n",
        "\n",
        "edades = np.array([25, -3, 120, 35, 20])\n",
        "\n",
        "# Filtrar edades válidas\n",
        "edades_validas = edades[(edades > 0) & (edades < 100)]\n",
        "\n",
        "print(\"Edades válidas:\", edades_validas)\n",
        "\n",
        "# Estadísticas\n",
        "print(\"Media:\", np.mean(edades_validas))      # (25+35+20)/3=26.67\n",
        "print(\"Mediana:\", np.median(edades_validas))  # 20  25  35\n",
        "print(\"Moda:\", stats.mode(edades_validas))    # es el dato que más se repite\n",
        "print(\"Varianza:\", np.var(edades_validas))    # dispersión de los datos respecto a la media, se miden al cuadrado\n",
        "print(\"Desviación estándar:\", np.std(edades_validas))  # dispersión de los datos respecto a la media"
      ],
      "metadata": {
        "colab": {
          "base_uri": "https://localhost:8080/"
        },
        "id": "n6otxfPrasWt",
        "outputId": "4e3a7b11-65b9-495c-fddf-0008d23209b3"
      },
      "execution_count": null,
      "outputs": [
        {
          "output_type": "stream",
          "name": "stdout",
          "text": [
            "Edades válidas: [25 35 20]\n",
            "Media: 26.666666666666668\n",
            "Mediana: 25.0\n",
            "Moda: 25\n",
            "Varianza: 38.88888888888889\n",
            "Desviación estándar: 6.236095644623236\n"
          ]
        }
      ]
    },
    {
      "cell_type": "markdown",
      "source": [
        "ACTIVIDAD SESIÓN LA LIBRERÍA NUMPY\n",
        "Imagina que estás trabajando como analista de datos en una empresa de tecnología y necesitas\n",
        "procesar información numérica utilizando NumPy. Para ello, debes desarrollar un conjunto de\n",
        "operaciones básicas para crear y manipular datos en forma de arreglos.\n",
        "Instrucciones:\n",
        "1. Importar la librería NumPy (1 punto).\n",
        "2. Crear un vector de 10 elementos con valores del 1 al 10 utilizando arange() (1 punto).\n",
        "• Muestra el vector generado.\n",
        "3. Generar una matriz de 3x3 con valores aleatorios entre 0 y 1 usando random.rand() (1\n",
        "punto).\n",
        "• Muestra la matriz en pantalla.\n",
        "4. Crear una matriz identidad de tamaño 4x4 utilizando eye() (1 punto).\n",
        "• Muestra la matriz identidad.\n",
        "5. Redimensionar el vector creado en el punto 2 en una matriz de 2x5 usando .reshape() (1\n",
        "punto).\n",
        "• Muestra la nueva matriz.\n",
        "6. Seleccionar los elementos mayores a 5 del vector original y mostrarlos (1 punto).\n",
        "• Utiliza indexación condicional.\n",
        "7. Realizar una operación matemática entre arreglos (2 puntos).\n",
        "• Crea dos arreglos de tamaño 5 con arange() y súmalos.\n",
        "• Muestra el resultado.\n",
        "8. Aplicar una función matemática a un arreglo (2 puntos).\n",
        "• Calcula la raíz cuadrada de los elementos del vector original.\n",
        "• Muestra el resultado.\n"
      ],
      "metadata": {
        "id": "22y-reDlfBHg"
      }
    },
    {
      "cell_type": "code",
      "source": [
        "# 1. Importar la librería NumPy\n",
        "import numpy as np"
      ],
      "metadata": {
        "id": "h4JyJzvKlStk"
      },
      "execution_count": null,
      "outputs": []
    },
    {
      "cell_type": "code",
      "source": [
        "# 2. Crear un vector de 10 elementos del 1 al 10 con arange\n",
        "vector = np.arange(1, 11)\n",
        "print(\"2. Vector del 1 al 10:\\n\", vector)"
      ],
      "metadata": {
        "colab": {
          "base_uri": "https://localhost:8080/"
        },
        "id": "zmOJNazNlhjE",
        "outputId": "aee2564d-d300-4489-ef44-3fe189d23ed7"
      },
      "execution_count": null,
      "outputs": [
        {
          "output_type": "stream",
          "name": "stdout",
          "text": [
            "2. Vector del 1 al 10:\n",
            " [ 1  2  3  4  5  6  7  8  9 10]\n"
          ]
        }
      ]
    },
    {
      "cell_type": "code",
      "source": [
        "# 3. Generar una matriz de 3x3 con valores aleatorios entre 0 y 1\n",
        "matriz_random = np.random.rand(3, 3)\n",
        "print(\"\\n3. Matriz aleatoria 3x3:\\n\", matriz_random)"
      ],
      "metadata": {
        "colab": {
          "base_uri": "https://localhost:8080/"
        },
        "id": "T43-ToR_ltV7",
        "outputId": "d553ae2a-f326-4a1d-8af6-863e65f4b346"
      },
      "execution_count": null,
      "outputs": [
        {
          "output_type": "stream",
          "name": "stdout",
          "text": [
            "\n",
            "3. Matriz aleatoria 3x3:\n",
            " [[0.71013223 0.27672811 0.67456014]\n",
            " [0.47258358 0.0150674  0.32642951]\n",
            " [0.59376763 0.02453285 0.25332443]]\n"
          ]
        }
      ]
    },
    {
      "cell_type": "code",
      "source": [
        "# 4. Crear una matriz identidad 4x4\n",
        "matriz_identidad = np.eye(4)\n",
        "print(\"\\n4. Matriz identidad 4x4:\\n\", matriz_identidad)"
      ],
      "metadata": {
        "colab": {
          "base_uri": "https://localhost:8080/"
        },
        "id": "noWPu4r6l1mL",
        "outputId": "d5e3e7c5-30af-4b49-830b-9304a8c95a2f"
      },
      "execution_count": null,
      "outputs": [
        {
          "output_type": "stream",
          "name": "stdout",
          "text": [
            "\n",
            "4. Matriz identidad 4x4:\n",
            " [[1. 0. 0. 0.]\n",
            " [0. 1. 0. 0.]\n",
            " [0. 0. 1. 0.]\n",
            " [0. 0. 0. 1.]]\n"
          ]
        }
      ]
    },
    {
      "cell_type": "code",
      "source": [
        "# 5. Redimensionar el vector a una matriz 2x5\n",
        "matriz_2x5 = vector.reshape(2, 5)\n",
        "print(\"\\n5. Vector redimensionado a matriz 2x5:\\n\", matriz_2x5)"
      ],
      "metadata": {
        "colab": {
          "base_uri": "https://localhost:8080/"
        },
        "id": "4risScV6l548",
        "outputId": "1bf0d3a6-1cc5-418c-a400-3ee71fe38ef0"
      },
      "execution_count": null,
      "outputs": [
        {
          "output_type": "stream",
          "name": "stdout",
          "text": [
            "\n",
            "5. Vector redimensionado a matriz 2x5:\n",
            " [[ 1  2  3  4  5]\n",
            " [ 6  7  8  9 10]]\n"
          ]
        }
      ]
    },
    {
      "cell_type": "code",
      "source": [
        "# 6. Seleccionar los elementos mayores a 5\n",
        "mayores_a_5 = vector[vector > 5]\n",
        "print(\"\\n6. Elementos mayores a 5:\\n\", mayores_a_5)"
      ],
      "metadata": {
        "colab": {
          "base_uri": "https://localhost:8080/"
        },
        "id": "ZTgPNflEl-I8",
        "outputId": "0621d6a7-3f34-4681-8c2e-675bd556a7a3"
      },
      "execution_count": null,
      "outputs": [
        {
          "output_type": "stream",
          "name": "stdout",
          "text": [
            "\n",
            "6. Elementos mayores a 5:\n",
            " [ 6  7  8  9 10]\n"
          ]
        }
      ]
    },
    {
      "cell_type": "code",
      "source": [
        "# 7. Operación matemática entre arreglos\n",
        "a = np.arange(1, 6)  # [1, 2, 3, 4, 5]\n",
        "b = np.arange(6, 11) # [6, 7, 8, 9, 10]\n",
        "suma = a + b\n",
        "print(\"\\n7. Suma de dos arreglos:\\n\", suma)"
      ],
      "metadata": {
        "colab": {
          "base_uri": "https://localhost:8080/"
        },
        "id": "c2A654RvmCYM",
        "outputId": "ff6c1d58-2b64-42ad-cf78-8d029cedfc62"
      },
      "execution_count": null,
      "outputs": [
        {
          "output_type": "stream",
          "name": "stdout",
          "text": [
            "\n",
            "7. Suma de dos arreglos:\n",
            " [ 7  9 11 13 15]\n"
          ]
        }
      ]
    },
    {
      "cell_type": "code",
      "source": [
        "# 8. Calcular la raíz cuadrada del vector original\n",
        "raiz_cuadrada = np.sqrt(vector)\n",
        "print(\"\\n8. Raíz cuadrada de cada elemento del vector:\\n\", raiz_cuadrada)"
      ],
      "metadata": {
        "colab": {
          "base_uri": "https://localhost:8080/"
        },
        "id": "KOtfLOGTmG3c",
        "outputId": "49df390e-b6ee-4076-f911-b3c2453caec2"
      },
      "execution_count": null,
      "outputs": [
        {
          "output_type": "stream",
          "name": "stdout",
          "text": [
            "\n",
            "8. Raíz cuadrada de cada elemento del vector:\n",
            " [1.         1.41421356 1.73205081 2.         2.23606798 2.44948974\n",
            " 2.64575131 2.82842712 3.         3.16227766]\n"
          ]
        }
      ]
    },
    {
      "cell_type": "code",
      "source": [
        "# 9. Calcular el Seno cuadrada del vector original\n",
        "calcular_seno = np.sin(vector)\n",
        "print(\"\\n8. calcular sen de cada elemento del vector:\\n\", calcular_seno)"
      ],
      "metadata": {
        "id": "hAe7Emppd0c9"
      },
      "execution_count": null,
      "outputs": []
    },
    {
      "cell_type": "markdown",
      "source": [],
      "metadata": {
        "id": "jpEBe31Tftjn"
      }
    },
    {
      "cell_type": "markdown",
      "source": [
        " ACTIVIDAD AVANZADA. MANEJO AVANZADO DE DATOS NUMÉRICOS CON NUMPY\n",
        "Objetivo:\n",
        "Aplicar habilidades intermedias y avanzadas de NumPy para resolver problemas relacionados con el análisis de datos numéricos, incluyendo operaciones estadísticas, selección condicional, manipulación de dimensiones, y uso de funciones universales.\n",
        "\n",
        "Instrucciones:\n",
        "1. Importar NumPy y establecer una semilla aleatoria para reproducibilidad (1 punto).\n",
        "\n",
        "np.random.seed(42)\n",
        "\n",
        "2. Generar una matriz 5x4 con valores enteros aleatorios entre 10 y 100 usando np.random.randint() (1 punto).\n",
        "\n",
        "Muestra la matriz.\n",
        "\n",
        "3. Obtener la media de cada columna y cada fila utilizando axis=0 y axis=1 respectivamente (2 puntos).\n",
        "\n",
        "Imprime ambos resultados claramente etiquetados.\n",
        "\n",
        "4. Seleccionar todos los elementos mayores al promedio general de la matriz (2 puntos).\n",
        "\n",
        "Muestra el promedio general.\n",
        "\n",
        "Muestra los valores filtrados.\n",
        "\n",
        "5. Aplicar una función universal de NumPy (np.log) a la matriz (1 punto).\n",
        "\n",
        "Muestra el resultado, redondeando los valores a 2 decimales.\n",
        "\n",
        "6. Redimensionar la matriz 5x4 a una nueva de 10x2 y luego a 2x2x5 (2 puntos).\n",
        "\n",
        "Muestra ambas estructuras nuevas usando .reshape().\n",
        "\n",
        "7. Crear dos vectores de 10 elementos: uno con linspace() y otro con arange() (1 punto).\n",
        "\n",
        "Suma ambos y muestra el resultado.\n",
        "\n",
        "Explica la diferencia entre ambos métodos en una línea de texto como comentario.\n",
        "\n",
        "8. Simular un pequeño conjunto de datos con errores:\n",
        "\n",
        "edades = np.array([28, -4, 33, 150, 41, 65, 0, 30, 105, 22])\n",
        "Filtra los valores válidos (entre 1 y 100 inclusive) (1 punto).\n",
        "\n",
        "Calcula media, mediana, moda (usando statistics.mode()), varianza y desviación estándar (2 puntos).\n",
        "\n",
        "Preguntas de reflexión:\n",
        "¿Cuál es la diferencia entre reshape() y resize() en NumPy?\n",
        "\n",
        "¿Qué ventajas tiene usar funciones universales como np.sqrt, np.log, etc. en lugar de hacer bucles for?\n",
        "\n",
        "¿Cómo te ayuda NumPy a trabajar más eficientemente con grandes cantidades de datos?"
      ],
      "metadata": {
        "id": "7G-z7Blvb9Wl"
      }
    },
    {
      "cell_type": "code",
      "source": [
        "#1 importar numpy y fijar semila\n",
        "import numpy as np\n",
        "import statistics\n"
      ],
      "metadata": {
        "id": "oL-GFQq9fu8Q"
      },
      "execution_count": null,
      "outputs": []
    },
    {
      "cell_type": "code",
      "source": [
        "import numpy as np\n",
        "import statistics\n",
        "\n",
        "# semilla para reproducibilidad\n",
        "\n",
        "matriz = np.random.randict(10, 101, size=(5,4))\n"
      ],
      "metadata": {
        "id": "X6KmH4bRgKGp"
      },
      "execution_count": null,
      "outputs": []
    }
  ]
}